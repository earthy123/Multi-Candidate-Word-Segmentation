{
 "cells": [
  {
   "cell_type": "code",
   "execution_count": 1,
   "metadata": {
    "scrolled": false
   },
   "outputs": [
    {
     "name": "stdout",
     "output_type": "stream",
     "text": [
      "load finnish\n"
     ]
    }
   ],
   "source": [
    "%run load_model.py"
   ]
  },
  {
   "cell_type": "code",
   "execution_count": 5,
   "metadata": {},
   "outputs": [
    {
     "name": "stdout",
     "output_type": "stream",
     "text": [
      "เมื่อ|หนุ่ม|คน|ดัง|กล่าว|ขับ|\n"
     ]
    }
   ],
   "source": [
    "txt = 'เมื่อหนุ่มคนดังกล่าวขับ'\n",
    "one_candidate(txt)"
   ]
  },
  {
   "cell_type": "code",
   "execution_count": 6,
   "metadata": {
    "scrolled": true
   },
   "outputs": [
    {
     "name": "stdout",
     "output_type": "stream",
     "text": [
      "เมื่อหนุ่มคน|ดังกล่าวขับ\n",
      "เมื่อหนุ่มคน|ดังกล่าว|ขับ\n",
      "เมื่อหนุ่มคน|ดัง|กล่าว|ขับ\n",
      "เมื่อหนุ่ม|คน|ดัง|กล่าว|ขับ\n",
      "เมื่อ|หนุ่ม|คน|ดัง|กล่าว|ขับ\n",
      "เมื่อ|หนุ่ม|คน|ดัง|กล่าว|ขับ|\n",
      "เมื่อ|ห|นุ่ม|คน|ดัง|กล่าว|ขับ|\n",
      "เมื่อ|ห|นุ่ม|คน|ดัง|ก|ล่าว|ขับ|\n",
      "เมื่อ|ห|นุ่ม|คน|ดัง|ก|ล่า|ว|ขับ|\n",
      "เมื่อ|ห|นุ่|ม|คน|ดัง|ก|ล่า|ว|ขับ|\n",
      "เมื่อ|ห|นุ่|ม|ค|น|ดัง|ก|ล่า|ว|ขับ|\n"
     ]
    }
   ],
   "source": [
    "multi_candidate(txt)"
   ]
  }
 ],
 "metadata": {
  "kernelspec": {
   "display_name": "Python 3",
   "language": "python",
   "name": "python3"
  },
  "language_info": {
   "codemirror_mode": {
    "name": "ipython",
    "version": 3
   },
   "file_extension": ".py",
   "mimetype": "text/x-python",
   "name": "python",
   "nbconvert_exporter": "python",
   "pygments_lexer": "ipython3",
   "version": "3.6.5"
  }
 },
 "nbformat": 4,
 "nbformat_minor": 2
}
